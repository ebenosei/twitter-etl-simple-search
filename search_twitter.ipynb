{
 "cells": [
  {
   "cell_type": "code",
   "execution_count": 5,
   "metadata": {},
   "outputs": [],
   "source": [
    "#Import libraries\n",
    "\n",
    "import tweepy\n",
    "from tweepy import OAuthHandler\n",
    "import json\n",
    "from datetime import datetime\n",
    "import os\n",
    "import sys\n",
    "import pandas as pd"
   ]
  },
  {
   "cell_type": "code",
   "execution_count": 6,
   "metadata": {},
   "outputs": [],
   "source": [
    "#Copy and paste API keys from twitter dev account\n",
    "\n",
    "consumer_key = '****************'\n",
    "consumer_secret = '********************'\n",
    "access_token = '**********-***********'\n",
    "access_secret = '******************'\n",
    "auth = OAuthHandler(consumer_key, consumer_secret)\n",
    "auth.set_access_token(access_token, access_secret)\n",
    "api = tweepy.API(auth, wait_on_rate_limit=True)"
   ]
  },
  {
   "cell_type": "code",
   "execution_count": 9,
   "metadata": {},
   "outputs": [],
   "source": [
    "def search_query(keyword, maximun=30):\n",
    "    text_query = keyword\n",
    "    tweets = tweepy.Cursor(api.search, q=text_query, lang='en').items(maximun)\n",
    "    tweet_data = list()\n",
    "    for tweet in tweets:\n",
    "        tweet_data.append({\"Date\": tweet.created_at, \"username\": tweet.user.name, \"screen_name\": tweet.user.screen_name, \n",
    "                           \"user_location\": tweet.user.location, \"user_friends_count\": tweet.user.friends_count,\n",
    "                           \"verified?\": tweet.user.verified, \"user_bio\": tweet.user.description, \"followers_count\" \n",
    "                           : tweet.user.followers_count, \"Tweet\": tweet.text, \"likes\" : tweet.favorite_count, \n",
    "                           \"retweets\": tweet.retweet_count, \"source\": tweet.source, \"tweet_id\": tweet.id,\n",
    "                           \"tweet_coordinates\": tweet.coordinates, \"hashtags\" :tweet.entities['hashtags']})\n",
    "    tweet_df = pd.DataFrame(tweet_data)\n",
    "    return tweet_df.to_csv(f'{datetime.today().strftime(\"%Y-%m-%d %H-%M-%S\")}.csv')"
   ]
  },
  {
   "cell_type": "code",
   "execution_count": 10,
   "metadata": {},
   "outputs": [],
   "source": [
    "search_query('#artetaout')"
   ]
  },
  {
   "cell_type": "code",
   "execution_count": null,
   "metadata": {},
   "outputs": [],
   "source": []
  }
 ],
 "metadata": {
  "kernelspec": {
   "display_name": "Python 3",
   "language": "python",
   "name": "python3"
  },
  "language_info": {
   "codemirror_mode": {
    "name": "ipython",
    "version": 3
   },
   "file_extension": ".py",
   "mimetype": "text/x-python",
   "name": "python",
   "nbconvert_exporter": "python",
   "pygments_lexer": "ipython3",
   "version": "3.8.3"
  }
 },
 "nbformat": 4,
 "nbformat_minor": 4
}
